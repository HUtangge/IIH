{
 "cells": [
  {
   "cell_type": "markdown",
   "metadata": {
    "isInteractiveWindowMessageCell": true
   },
   "source": [
    "Connected to astronaut_sans (Python 3.10.10)"
   ]
  },
  {
   "cell_type": "code",
   "execution_count": 1,
   "metadata": {},
   "outputs": [
    {
     "ename": "FileNotFoundError",
     "evalue": "[Errno 2] No such file or directory: '/Users/getang/Documents/EarthResearch/IIH/testing/TemplateBuildingExample/BrainSlices/OASIS-TRT-20-10Slice121.nii.gz'",
     "output_type": "error",
     "traceback": [
      "\u001b[0;31m---------------------------------------------------------------------------\u001b[0m",
      "\u001b[0;31mFileNotFoundError\u001b[0m                         Traceback (most recent call last)",
      "\u001b[1;32m/Users/getang/Documents/EarthResearch/IIH/src/testing_ANTs.py\u001b[0m in \u001b[0;36mline 6\n\u001b[1;32m      <a href='file:///Users/getang/Documents/EarthResearch/IIH/src/testing_ANTs.py?line=2'>3</a>\u001b[0m \u001b[39mimport\u001b[39;00m \u001b[39mpydicom\u001b[39;00m\n\u001b[1;32m      <a href='file:///Users/getang/Documents/EarthResearch/IIH/src/testing_ANTs.py?line=4'>5</a>\u001b[0m filename \u001b[39m=\u001b[39m \u001b[39mr\u001b[39m\u001b[39m'\u001b[39m\u001b[39m/Users/getang/Documents/EarthResearch/IIH/testing/TemplateBuildingExample/BrainSlices/OASIS-TRT-20-10Slice121.nii.gz\u001b[39m\u001b[39m'\u001b[39m\n\u001b[0;32m----> <a href='file:///Users/getang/Documents/EarthResearch/IIH/src/testing_ANTs.py?line=5'>6</a>\u001b[0m ds \u001b[39m=\u001b[39m pydicom\u001b[39m.\u001b[39;49mdcmread(filename)\n",
      "File \u001b[0;32m~/anaconda3/envs/astronaut_sans/lib/python3.10/site-packages/pydicom/filereader.py:1002\u001b[0m, in \u001b[0;36mdcmread\u001b[0;34m(fp, defer_size, stop_before_pixels, force, specific_tags)\u001b[0m\n\u001b[1;32m   <a href='file:///Users/getang/anaconda3/envs/astronaut_sans/lib/python3.10/site-packages/pydicom/filereader.py?line=999'>1000</a>\u001b[0m     caller_owns_file \u001b[39m=\u001b[39m \u001b[39mFalse\u001b[39;00m\n\u001b[1;32m   <a href='file:///Users/getang/anaconda3/envs/astronaut_sans/lib/python3.10/site-packages/pydicom/filereader.py?line=1000'>1001</a>\u001b[0m     logger\u001b[39m.\u001b[39mdebug(\u001b[39m\"\u001b[39m\u001b[39mReading file \u001b[39m\u001b[39m'\u001b[39m\u001b[39m{0}\u001b[39;00m\u001b[39m'\u001b[39m\u001b[39m\"\u001b[39m\u001b[39m.\u001b[39mformat(fp))\n\u001b[0;32m-> <a href='file:///Users/getang/anaconda3/envs/astronaut_sans/lib/python3.10/site-packages/pydicom/filereader.py?line=1001'>1002</a>\u001b[0m     fp \u001b[39m=\u001b[39m \u001b[39mopen\u001b[39;49m(fp, \u001b[39m'\u001b[39;49m\u001b[39mrb\u001b[39;49m\u001b[39m'\u001b[39;49m)\n\u001b[1;32m   <a href='file:///Users/getang/anaconda3/envs/astronaut_sans/lib/python3.10/site-packages/pydicom/filereader.py?line=1002'>1003</a>\u001b[0m \u001b[39melif\u001b[39;00m fp \u001b[39mis\u001b[39;00m \u001b[39mNone\u001b[39;00m \u001b[39mor\u001b[39;00m \u001b[39mnot\u001b[39;00m \u001b[39mhasattr\u001b[39m(fp, \u001b[39m\"\u001b[39m\u001b[39mread\u001b[39m\u001b[39m\"\u001b[39m) \u001b[39mor\u001b[39;00m \u001b[39mnot\u001b[39;00m \u001b[39mhasattr\u001b[39m(fp, \u001b[39m\"\u001b[39m\u001b[39mseek\u001b[39m\u001b[39m\"\u001b[39m):\n\u001b[1;32m   <a href='file:///Users/getang/anaconda3/envs/astronaut_sans/lib/python3.10/site-packages/pydicom/filereader.py?line=1003'>1004</a>\u001b[0m     \u001b[39mraise\u001b[39;00m \u001b[39mTypeError\u001b[39;00m(\u001b[39m\"\u001b[39m\u001b[39mdcmread: Expected a file path or a file-like, \u001b[39m\u001b[39m\"\u001b[39m\n\u001b[1;32m   <a href='file:///Users/getang/anaconda3/envs/astronaut_sans/lib/python3.10/site-packages/pydicom/filereader.py?line=1004'>1005</a>\u001b[0m                     \u001b[39m\"\u001b[39m\u001b[39mbut got \u001b[39m\u001b[39m\"\u001b[39m \u001b[39m+\u001b[39m \u001b[39mtype\u001b[39m(fp)\u001b[39m.\u001b[39m\u001b[39m__name__\u001b[39m)\n",
      "\u001b[0;31mFileNotFoundError\u001b[0m: [Errno 2] No such file or directory: '/Users/getang/Documents/EarthResearch/IIH/testing/TemplateBuildingExample/BrainSlices/OASIS-TRT-20-10Slice121.nii.gz'"
     ]
    }
   ],
   "source": [
    "# This file is for testing the ANTs \n",
    "\n",
    "import pydicom\n",
    "\n",
    "filename = r'/Users/getang/Documents/EarthResearch/IIH/testing/TemplateBuildingExample/BrainSlices/OASIS-TRT-20-10Slice121.nii.gz'\n",
    "ds = pydicom.dcmread(filename)"
   ]
  },
  {
   "cell_type": "code",
   "execution_count": 2,
   "metadata": {},
   "outputs": [],
   "source": [
    "import pydicom\n",
    "\n",
    "filename = r'/Users/getang/Documents/EarthResearch/IIH/testing/TemplateBuildingExample/BrainSlices/OASIS-TRT-20-10Slice121.nii.gz'\n"
   ]
  },
  {
   "cell_type": "code",
   "execution_count": 3,
   "metadata": {},
   "outputs": [
    {
     "ename": "FileNotFoundError",
     "evalue": "[Errno 2] No such file or directory: '/Users/getang/Documents/EarthResearch/IIH/testing/TemplateBuildingExample/BrainSlices/OASIS-TRT-20-10Slice121.nii.gz'",
     "output_type": "error",
     "traceback": [
      "\u001b[0;31m---------------------------------------------------------------------------\u001b[0m",
      "\u001b[0;31mFileNotFoundError\u001b[0m                         Traceback (most recent call last)",
      "Cell \u001b[0;32mIn[3], line 1\u001b[0m\n\u001b[0;32m----> 1\u001b[0m ds \u001b[39m=\u001b[39m pydicom\u001b[39m.\u001b[39;49mdcmread(filename)\n",
      "File \u001b[0;32m~/anaconda3/envs/astronaut_sans/lib/python3.10/site-packages/pydicom/filereader.py:1002\u001b[0m, in \u001b[0;36mdcmread\u001b[0;34m(fp, defer_size, stop_before_pixels, force, specific_tags)\u001b[0m\n\u001b[1;32m   <a href='file:///Users/getang/anaconda3/envs/astronaut_sans/lib/python3.10/site-packages/pydicom/filereader.py?line=999'>1000</a>\u001b[0m     caller_owns_file \u001b[39m=\u001b[39m \u001b[39mFalse\u001b[39;00m\n\u001b[1;32m   <a href='file:///Users/getang/anaconda3/envs/astronaut_sans/lib/python3.10/site-packages/pydicom/filereader.py?line=1000'>1001</a>\u001b[0m     logger\u001b[39m.\u001b[39mdebug(\u001b[39m\"\u001b[39m\u001b[39mReading file \u001b[39m\u001b[39m'\u001b[39m\u001b[39m{0}\u001b[39;00m\u001b[39m'\u001b[39m\u001b[39m\"\u001b[39m\u001b[39m.\u001b[39mformat(fp))\n\u001b[0;32m-> <a href='file:///Users/getang/anaconda3/envs/astronaut_sans/lib/python3.10/site-packages/pydicom/filereader.py?line=1001'>1002</a>\u001b[0m     fp \u001b[39m=\u001b[39m \u001b[39mopen\u001b[39;49m(fp, \u001b[39m'\u001b[39;49m\u001b[39mrb\u001b[39;49m\u001b[39m'\u001b[39;49m)\n\u001b[1;32m   <a href='file:///Users/getang/anaconda3/envs/astronaut_sans/lib/python3.10/site-packages/pydicom/filereader.py?line=1002'>1003</a>\u001b[0m \u001b[39melif\u001b[39;00m fp \u001b[39mis\u001b[39;00m \u001b[39mNone\u001b[39;00m \u001b[39mor\u001b[39;00m \u001b[39mnot\u001b[39;00m \u001b[39mhasattr\u001b[39m(fp, \u001b[39m\"\u001b[39m\u001b[39mread\u001b[39m\u001b[39m\"\u001b[39m) \u001b[39mor\u001b[39;00m \u001b[39mnot\u001b[39;00m \u001b[39mhasattr\u001b[39m(fp, \u001b[39m\"\u001b[39m\u001b[39mseek\u001b[39m\u001b[39m\"\u001b[39m):\n\u001b[1;32m   <a href='file:///Users/getang/anaconda3/envs/astronaut_sans/lib/python3.10/site-packages/pydicom/filereader.py?line=1003'>1004</a>\u001b[0m     \u001b[39mraise\u001b[39;00m \u001b[39mTypeError\u001b[39;00m(\u001b[39m\"\u001b[39m\u001b[39mdcmread: Expected a file path or a file-like, \u001b[39m\u001b[39m\"\u001b[39m\n\u001b[1;32m   <a href='file:///Users/getang/anaconda3/envs/astronaut_sans/lib/python3.10/site-packages/pydicom/filereader.py?line=1004'>1005</a>\u001b[0m                     \u001b[39m\"\u001b[39m\u001b[39mbut got \u001b[39m\u001b[39m\"\u001b[39m \u001b[39m+\u001b[39m \u001b[39mtype\u001b[39m(fp)\u001b[39m.\u001b[39m\u001b[39m__name__\u001b[39m)\n",
      "\u001b[0;31mFileNotFoundError\u001b[0m: [Errno 2] No such file or directory: '/Users/getang/Documents/EarthResearch/IIH/testing/TemplateBuildingExample/BrainSlices/OASIS-TRT-20-10Slice121.nii.gz'"
     ]
    }
   ],
   "source": [
    "ds = pydicom.dcmread(filename)\n"
   ]
  },
  {
   "cell_type": "code",
   "execution_count": 4,
   "metadata": {},
   "outputs": [
    {
     "ename": "InvalidDicomError",
     "evalue": "File is missing DICOM File Meta Information header or the 'DICM' prefix is missing from the header. Use force=True to force reading.",
     "output_type": "error",
     "traceback": [
      "\u001b[0;31m---------------------------------------------------------------------------\u001b[0m",
      "\u001b[0;31mInvalidDicomError\u001b[0m                         Traceback (most recent call last)",
      "\u001b[1;32m/Users/getang/Documents/EarthResearch/IIH/src/testing_ANTs.py\u001b[0m in \u001b[0;36mline 6\n\u001b[1;32m      <a href='file:///Users/getang/Documents/EarthResearch/IIH/src/testing_ANTs.py?line=2'>3</a>\u001b[0m \u001b[39mimport\u001b[39;00m \u001b[39mpydicom\u001b[39;00m\n\u001b[1;32m      <a href='file:///Users/getang/Documents/EarthResearch/IIH/src/testing_ANTs.py?line=4'>5</a>\u001b[0m filename \u001b[39m=\u001b[39m \u001b[39mr\u001b[39m\u001b[39m'\u001b[39m\u001b[39m/Users/getang/Documents/EarthResearch/IIH/test/TemplateBuildingExample/BrainSlices/OASIS-TRT-20-10Slice121.nii.gz\u001b[39m\u001b[39m'\u001b[39m\n\u001b[0;32m----> <a href='file:///Users/getang/Documents/EarthResearch/IIH/src/testing_ANTs.py?line=5'>6</a>\u001b[0m ds \u001b[39m=\u001b[39m pydicom\u001b[39m.\u001b[39;49mdcmread(filename)\n",
      "File \u001b[0;32m~/anaconda3/envs/astronaut_sans/lib/python3.10/site-packages/pydicom/filereader.py:1030\u001b[0m, in \u001b[0;36mdcmread\u001b[0;34m(fp, defer_size, stop_before_pixels, force, specific_tags)\u001b[0m\n\u001b[1;32m   <a href='file:///Users/getang/anaconda3/envs/astronaut_sans/lib/python3.10/site-packages/pydicom/filereader.py?line=1027'>1028</a>\u001b[0m     stop_when \u001b[39m=\u001b[39m _at_pixel_data\n\u001b[1;32m   <a href='file:///Users/getang/anaconda3/envs/astronaut_sans/lib/python3.10/site-packages/pydicom/filereader.py?line=1028'>1029</a>\u001b[0m \u001b[39mtry\u001b[39;00m:\n\u001b[0;32m-> <a href='file:///Users/getang/anaconda3/envs/astronaut_sans/lib/python3.10/site-packages/pydicom/filereader.py?line=1029'>1030</a>\u001b[0m     dataset \u001b[39m=\u001b[39m read_partial(\n\u001b[1;32m   <a href='file:///Users/getang/anaconda3/envs/astronaut_sans/lib/python3.10/site-packages/pydicom/filereader.py?line=1030'>1031</a>\u001b[0m         fp,\n\u001b[1;32m   <a href='file:///Users/getang/anaconda3/envs/astronaut_sans/lib/python3.10/site-packages/pydicom/filereader.py?line=1031'>1032</a>\u001b[0m         stop_when,\n\u001b[1;32m   <a href='file:///Users/getang/anaconda3/envs/astronaut_sans/lib/python3.10/site-packages/pydicom/filereader.py?line=1032'>1033</a>\u001b[0m         defer_size\u001b[39m=\u001b[39;49msize_in_bytes(defer_size),\n\u001b[1;32m   <a href='file:///Users/getang/anaconda3/envs/astronaut_sans/lib/python3.10/site-packages/pydicom/filereader.py?line=1033'>1034</a>\u001b[0m         force\u001b[39m=\u001b[39;49mforce,\n\u001b[1;32m   <a href='file:///Users/getang/anaconda3/envs/astronaut_sans/lib/python3.10/site-packages/pydicom/filereader.py?line=1034'>1035</a>\u001b[0m         specific_tags\u001b[39m=\u001b[39;49mspecific_tags,\n\u001b[1;32m   <a href='file:///Users/getang/anaconda3/envs/astronaut_sans/lib/python3.10/site-packages/pydicom/filereader.py?line=1035'>1036</a>\u001b[0m     )\n\u001b[1;32m   <a href='file:///Users/getang/anaconda3/envs/astronaut_sans/lib/python3.10/site-packages/pydicom/filereader.py?line=1036'>1037</a>\u001b[0m \u001b[39mfinally\u001b[39;00m:\n\u001b[1;32m   <a href='file:///Users/getang/anaconda3/envs/astronaut_sans/lib/python3.10/site-packages/pydicom/filereader.py?line=1037'>1038</a>\u001b[0m     \u001b[39mif\u001b[39;00m \u001b[39mnot\u001b[39;00m caller_owns_file:\n",
      "File \u001b[0;32m~/anaconda3/envs/astronaut_sans/lib/python3.10/site-packages/pydicom/filereader.py:778\u001b[0m, in \u001b[0;36mread_partial\u001b[0;34m(fileobj, stop_when, defer_size, force, specific_tags)\u001b[0m\n\u001b[1;32m    <a href='file:///Users/getang/anaconda3/envs/astronaut_sans/lib/python3.10/site-packages/pydicom/filereader.py?line=744'>745</a>\u001b[0m \u001b[39m\u001b[39m\u001b[39m\"\"\"Parse a DICOM file until a condition is met.\u001b[39;00m\n\u001b[1;32m    <a href='file:///Users/getang/anaconda3/envs/astronaut_sans/lib/python3.10/site-packages/pydicom/filereader.py?line=745'>746</a>\u001b[0m \n\u001b[1;32m    <a href='file:///Users/getang/anaconda3/envs/astronaut_sans/lib/python3.10/site-packages/pydicom/filereader.py?line=746'>747</a>\u001b[0m \u001b[39mParameters\u001b[39;00m\n\u001b[0;32m   (...)\u001b[0m\n\u001b[1;32m    <a href='file:///Users/getang/anaconda3/envs/astronaut_sans/lib/python3.10/site-packages/pydicom/filereader.py?line=772'>773</a>\u001b[0m \u001b[39m    More generic file reading function.\u001b[39;00m\n\u001b[1;32m    <a href='file:///Users/getang/anaconda3/envs/astronaut_sans/lib/python3.10/site-packages/pydicom/filereader.py?line=773'>774</a>\u001b[0m \u001b[39m\"\"\"\u001b[39;00m\n\u001b[1;32m    <a href='file:///Users/getang/anaconda3/envs/astronaut_sans/lib/python3.10/site-packages/pydicom/filereader.py?line=774'>775</a>\u001b[0m \u001b[39m# Read File Meta Information\u001b[39;00m\n\u001b[1;32m    <a href='file:///Users/getang/anaconda3/envs/astronaut_sans/lib/python3.10/site-packages/pydicom/filereader.py?line=775'>776</a>\u001b[0m \n\u001b[1;32m    <a href='file:///Users/getang/anaconda3/envs/astronaut_sans/lib/python3.10/site-packages/pydicom/filereader.py?line=776'>777</a>\u001b[0m \u001b[39m# Read preamble (if present)\u001b[39;00m\n\u001b[0;32m--> <a href='file:///Users/getang/anaconda3/envs/astronaut_sans/lib/python3.10/site-packages/pydicom/filereader.py?line=777'>778</a>\u001b[0m preamble \u001b[39m=\u001b[39m read_preamble(fileobj, force)\n\u001b[1;32m    <a href='file:///Users/getang/anaconda3/envs/astronaut_sans/lib/python3.10/site-packages/pydicom/filereader.py?line=778'>779</a>\u001b[0m \u001b[39m# Read any File Meta Information group (0002,eeee) elements (if present)\u001b[39;00m\n\u001b[1;32m    <a href='file:///Users/getang/anaconda3/envs/astronaut_sans/lib/python3.10/site-packages/pydicom/filereader.py?line=779'>780</a>\u001b[0m file_meta \u001b[39m=\u001b[39m _read_file_meta_info(fileobj)\n",
      "File \u001b[0;32m~/anaconda3/envs/astronaut_sans/lib/python3.10/site-packages/pydicom/filereader.py:723\u001b[0m, in \u001b[0;36mread_preamble\u001b[0;34m(fp, force)\u001b[0m\n\u001b[1;32m    <a href='file:///Users/getang/anaconda3/envs/astronaut_sans/lib/python3.10/site-packages/pydicom/filereader.py?line=719'>720</a>\u001b[0m     \u001b[39mreturn\u001b[39;00m \u001b[39mNone\u001b[39;00m\n\u001b[1;32m    <a href='file:///Users/getang/anaconda3/envs/astronaut_sans/lib/python3.10/site-packages/pydicom/filereader.py?line=721'>722</a>\u001b[0m \u001b[39mif\u001b[39;00m magic \u001b[39m!=\u001b[39m \u001b[39mb\u001b[39m\u001b[39m\"\u001b[39m\u001b[39mDICM\u001b[39m\u001b[39m\"\u001b[39m \u001b[39mand\u001b[39;00m \u001b[39mnot\u001b[39;00m force:\n\u001b[0;32m--> <a href='file:///Users/getang/anaconda3/envs/astronaut_sans/lib/python3.10/site-packages/pydicom/filereader.py?line=722'>723</a>\u001b[0m     \u001b[39mraise\u001b[39;00m InvalidDicomError(\n\u001b[1;32m    <a href='file:///Users/getang/anaconda3/envs/astronaut_sans/lib/python3.10/site-packages/pydicom/filereader.py?line=723'>724</a>\u001b[0m         \u001b[39m\"\u001b[39m\u001b[39mFile is missing DICOM File Meta Information header or the \u001b[39m\u001b[39m'\u001b[39m\u001b[39mDICM\u001b[39m\u001b[39m'\u001b[39m\u001b[39m \u001b[39m\u001b[39m\"\u001b[39m\n\u001b[1;32m    <a href='file:///Users/getang/anaconda3/envs/astronaut_sans/lib/python3.10/site-packages/pydicom/filereader.py?line=724'>725</a>\u001b[0m         \u001b[39m\"\u001b[39m\u001b[39mprefix is missing from the header. Use force=True to force \u001b[39m\u001b[39m\"\u001b[39m\n\u001b[1;32m    <a href='file:///Users/getang/anaconda3/envs/astronaut_sans/lib/python3.10/site-packages/pydicom/filereader.py?line=725'>726</a>\u001b[0m         \u001b[39m\"\u001b[39m\u001b[39mreading.\u001b[39m\u001b[39m\"\u001b[39m\n\u001b[1;32m    <a href='file:///Users/getang/anaconda3/envs/astronaut_sans/lib/python3.10/site-packages/pydicom/filereader.py?line=726'>727</a>\u001b[0m     )\n\u001b[1;32m    <a href='file:///Users/getang/anaconda3/envs/astronaut_sans/lib/python3.10/site-packages/pydicom/filereader.py?line=727'>728</a>\u001b[0m \u001b[39melse\u001b[39;00m:\n\u001b[1;32m    <a href='file:///Users/getang/anaconda3/envs/astronaut_sans/lib/python3.10/site-packages/pydicom/filereader.py?line=728'>729</a>\u001b[0m     logger\u001b[39m.\u001b[39mdebug(\u001b[39mf\u001b[39m\u001b[39m\"\u001b[39m\u001b[39m{\u001b[39;00mfp\u001b[39m.\u001b[39mtell()\u001b[39m \u001b[39m\u001b[39m-\u001b[39m\u001b[39m \u001b[39m\u001b[39m4\u001b[39m\u001b[39m:\u001b[39;00m\u001b[39m08x\u001b[39m\u001b[39m}\u001b[39;00m\u001b[39m: \u001b[39m\u001b[39m'\u001b[39m\u001b[39mDICM\u001b[39m\u001b[39m'\u001b[39m\u001b[39m prefix found\u001b[39m\u001b[39m\"\u001b[39m)\n",
      "\u001b[0;31mInvalidDicomError\u001b[0m: File is missing DICOM File Meta Information header or the 'DICM' prefix is missing from the header. Use force=True to force reading."
     ]
    }
   ],
   "source": [
    "# This file is for testing the ANTs \n",
    "\n",
    "import pydicom\n",
    "\n",
    "filename = r'/Users/getang/Documents/EarthResearch/IIH/test/TemplateBuildingExample/BrainSlices/OASIS-TRT-20-10Slice121.nii.gz'\n",
    "ds = pydicom.dcmread(filename)"
   ]
  },
  {
   "cell_type": "code",
   "execution_count": 5,
   "metadata": {},
   "outputs": [],
   "source": [
    "ds = pydicom.dcmread(filename, force=True)"
   ]
  },
  {
   "cell_type": "code",
   "execution_count": 6,
   "metadata": {},
   "outputs": [],
   "source": [
    "# This file is for testing the ANTs \n",
    "\n",
    "# import pydicom\n",
    "\n",
    "# filename = r'/Users/getang/Documents/EarthResearch/IIH/test/TemplateBuildingExample/BrainSlices/OASIS-TRT-20-10Slice121.nii.gz'\n",
    "# ds = pydicom.dcmread(filename, force=True)\n",
    "\n",
    "import nibabel as nib\n",
    "\n",
    "def modify_voxels_nii(nii_path, voxel_coordinates, new_value):\n",
    "    \"\"\"\n",
    "    Modify the value of specific voxels in a NIfTI file.\n",
    "    \n",
    "    :param nii_path: Path to the NIfTI file (.nii or .nii.gz).\n",
    "    :param voxel_coordinates: List of 3D coordinates (i, j, k) of voxels to be changed.\n",
    "    :param new_value: The value to which the voxel values should be changed.\n",
    "    :return: Modified NIfTI image.\n",
    "    \"\"\"\n",
    "    nii_img = nib.load(nii_path)\n",
    "    data = nii_img.get_fdata()\n",
    "\n",
    "    # Modify the voxel values\n",
    "    for i, j, k in voxel_coordinates:\n",
    "        data[i][j][k] = new_value\n",
    "\n",
    "    # Create a new NIfTI image with the modified data\n",
    "    new_img = nib.Nifti1Image(data, nii_img.affine, nii_img.header)\n",
    "\n",
    "    return new_img"
   ]
  },
  {
   "cell_type": "code",
   "execution_count": 7,
   "metadata": {},
   "outputs": [
    {
     "ename": "TypeError",
     "evalue": "'numpy.float64' object does not support item assignment",
     "output_type": "error",
     "traceback": [
      "\u001b[0;31m---------------------------------------------------------------------------\u001b[0m",
      "\u001b[0;31mTypeError\u001b[0m                                 Traceback (most recent call last)",
      "\u001b[1;32m/Users/getang/Documents/EarthResearch/IIH/src/testing_ANTs.py\u001b[0m in \u001b[0;36mline 6\n\u001b[1;32m      <a href='file:///Users/getang/Documents/EarthResearch/IIH/src/testing_ANTs.py?line=34'>35</a>\u001b[0m voxel_coordinates \u001b[39m=\u001b[39m [(\u001b[39m50\u001b[39m, \u001b[39m50\u001b[39m, \u001b[39m50\u001b[39m), (\u001b[39m51\u001b[39m, \u001b[39m51\u001b[39m, \u001b[39m51\u001b[39m)]  \u001b[39m# Just as an example; replace with your coordinates\u001b[39;00m\n\u001b[1;32m      <a href='file:///Users/getang/Documents/EarthResearch/IIH/src/testing_ANTs.py?line=35'>36</a>\u001b[0m new_value \u001b[39m=\u001b[39m \u001b[39m500\u001b[39m  \u001b[39m# Or whatever value you want to set\u001b[39;00m\n\u001b[0;32m----> <a href='file:///Users/getang/Documents/EarthResearch/IIH/src/testing_ANTs.py?line=36'>37</a>\u001b[0m modified_img \u001b[39m=\u001b[39m modify_voxels_nii(nii_path, voxel_coordinates, new_value)\n\u001b[1;32m      <a href='file:///Users/getang/Documents/EarthResearch/IIH/src/testing_ANTs.py?line=37'>38</a>\u001b[0m nib\u001b[39m.\u001b[39msave(modified_img, os\u001b[39m.\u001b[39mpath\u001b[39m.\u001b[39mjoin(project_path, \u001b[39m'\u001b[39m\u001b[39mmodified_nii_file.nii.gz\u001b[39m\u001b[39m'\u001b[39m))\n",
      "Cell \u001b[0;32mIn[6], line 24\u001b[0m, in \u001b[0;36mmodify_voxels_nii\u001b[0;34m(nii_path, voxel_coordinates, new_value)\u001b[0m\n\u001b[1;32m     22\u001b[0m \u001b[39m# Modify the voxel values\u001b[39;00m\n\u001b[1;32m     23\u001b[0m \u001b[39mfor\u001b[39;00m i, j, k \u001b[39min\u001b[39;00m voxel_coordinates:\n\u001b[0;32m---> 24\u001b[0m     data[i][j][k] \u001b[39m=\u001b[39m new_value\n\u001b[1;32m     26\u001b[0m \u001b[39m# Create a new NIfTI image with the modified data\u001b[39;00m\n\u001b[1;32m     27\u001b[0m new_img \u001b[39m=\u001b[39m nib\u001b[39m.\u001b[39mNifti1Image(data, nii_img\u001b[39m.\u001b[39maffine, nii_img\u001b[39m.\u001b[39mheader)\n",
      "\u001b[0;31mTypeError\u001b[0m: 'numpy.float64' object does not support item assignment"
     ]
    }
   ],
   "source": [
    "project_path = r'/Users/getang/Documents/EarthResearch/IIH/test/TemplateBuildingExample/BrainSlices'\n",
    "nii_path = os.path.join(project_path, 'OASIS-TRT-20-10Slice121.nii.gz')\n",
    "voxel_coordinates = [(50, 50, 50), (51, 51, 51)]  # Just as an example; replace with your coordinates\n",
    "new_value = 500  # Or whatever value you want to set\n",
    "modified_img = modify_voxels_nii(nii_path, voxel_coordinates, new_value)\n",
    "nib.save(modified_img, os.path.join(project_path, 'modified_nii_file.nii.gz'))"
   ]
  },
  {
   "cell_type": "code",
   "execution_count": 8,
   "metadata": {},
   "outputs": [],
   "source": [
    "import nibabel as nib\n",
    "import os\n",
    "\n",
    "def modify_voxels_nii(nii_path, voxel_coordinates, new_value):\n",
    "    \"\"\"\n",
    "    Modify the value of specific voxels in a NIfTI file.\n",
    "    \n",
    "    :param nii_path: Path to the NIfTI file (.nii or .nii.gz).\n",
    "    :param voxel_coordinates: List of 3D coordinates (i, j, k) of voxels to be changed.\n",
    "    :param new_value: The value to which the voxel values should be changed.\n",
    "    :return: Modified NIfTI image.\n",
    "    \"\"\"\n",
    "    nii_img = nib.load(nii_path)\n",
    "    data = nii_img.get_fdata()\n",
    "\n",
    "    # Modify the voxel values\n",
    "    for i, j, k in voxel_coordinates:\n",
    "        data[i][j][k] = new_value\n",
    "\n",
    "    # Create a new NIfTI image with the modified data\n",
    "    new_img = nib.Nifti1Image(data, nii_img.affine, nii_img.header)\n",
    "\n",
    "    return new_img"
   ]
  },
  {
   "cell_type": "code",
   "execution_count": 9,
   "metadata": {},
   "outputs": [],
   "source": [
    "project_path = r'/Users/getang/Documents/EarthResearch/IIH/test/TemplateBuildingExample/BrainSlices'\n",
    "nii_path = os.path.join(project_path, 'OASIS-TRT-20-10Slice121.nii.gz')\n",
    "voxel_coordinates = [(50, 50, 50), (51, 51, 51)]  # Just as an example; replace with your coordinates\n",
    "new_value = 500  # Or whatever value you want to set\n"
   ]
  },
  {
   "cell_type": "code",
   "execution_count": 10,
   "metadata": {},
   "outputs": [],
   "source": [
    "nii_img = nib.load(nii_path)"
   ]
  },
  {
   "cell_type": "code",
   "execution_count": 11,
   "metadata": {},
   "outputs": [],
   "source": [
    "data = nii_img.get_fdata()"
   ]
  },
  {
   "cell_type": "code",
   "execution_count": 12,
   "metadata": {},
   "outputs": [],
   "source": [
    "voxel_coordinates = [(50, 50), (51, 51)]  # Just as a"
   ]
  },
  {
   "cell_type": "code",
   "execution_count": 13,
   "metadata": {},
   "outputs": [],
   "source": [
    "for i, j in voxel_coordinates:\n",
    "        data[i][j] = new_value"
   ]
  },
  {
   "cell_type": "code",
   "execution_count": 14,
   "metadata": {},
   "outputs": [],
   "source": [
    "new_img = nib.Nifti1Image(data, nii_img.affine, nii_img.header)\n"
   ]
  },
  {
   "cell_type": "code",
   "execution_count": 15,
   "metadata": {},
   "outputs": [
    {
     "ename": "ValueError",
     "evalue": "not enough values to unpack (expected 3, got 2)",
     "output_type": "error",
     "traceback": [
      "\u001b[0;31m---------------------------------------------------------------------------\u001b[0m",
      "\u001b[0;31mValueError\u001b[0m                                Traceback (most recent call last)",
      "Cell \u001b[0;32mIn[15], line 1\u001b[0m\n\u001b[0;32m----> 1\u001b[0m modified_img \u001b[39m=\u001b[39m modify_voxels_nii(nii_path, voxel_coordinates, new_value)\n",
      "Cell \u001b[0;32mIn[8], line 17\u001b[0m, in \u001b[0;36mmodify_voxels_nii\u001b[0;34m(nii_path, voxel_coordinates, new_value)\u001b[0m\n\u001b[1;32m     14\u001b[0m data \u001b[39m=\u001b[39m nii_img\u001b[39m.\u001b[39mget_fdata()\n\u001b[1;32m     16\u001b[0m \u001b[39m# Modify the voxel values\u001b[39;00m\n\u001b[0;32m---> 17\u001b[0m \u001b[39mfor\u001b[39;00m i, j, k \u001b[39min\u001b[39;00m voxel_coordinates:\n\u001b[1;32m     18\u001b[0m     data[i][j][k] \u001b[39m=\u001b[39m new_value\n\u001b[1;32m     20\u001b[0m \u001b[39m# Create a new NIfTI image with the modified data\u001b[39;00m\n",
      "\u001b[0;31mValueError\u001b[0m: not enough values to unpack (expected 3, got 2)"
     ]
    }
   ],
   "source": [
    "modified_img = modify_voxels_nii(nii_path, voxel_coordinates, new_value)\n"
   ]
  }
 ],
 "metadata": {
  "kernelspec": {
   "display_name": "astronaut_sans",
   "language": "python",
   "name": "python3"
  },
  "language_info": {
   "codemirror_mode": {
    "name": "ipython",
    "version": 3
   },
   "file_extension": ".py",
   "mimetype": "text/x-python",
   "name": "python",
   "nbconvert_exporter": "python",
   "pygments_lexer": "ipython3",
   "version": "3.10.10"
  }
 },
 "nbformat": 4,
 "nbformat_minor": 2
}
